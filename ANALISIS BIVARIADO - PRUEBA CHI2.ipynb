{
 "cells": [
  {
   "cell_type": "markdown",
   "metadata": {},
   "source": [
    "<span style=\"color:red;font-style:normal;font-family:Georgia\">1. IMPORTAMOS LAS LIBRERIAS.</span>"
   ]
  },
  {
   "cell_type": "code",
   "execution_count": 12,
   "metadata": {},
   "outputs": [],
   "source": [
    "import pandas as pd\n",
    "import numpy as np\n",
    "import matplotlib.pyplot as plt\n",
    "import seaborn as sns\n",
    "from scipy.stats import chi2_contingency"
   ]
  },
  {
   "cell_type": "markdown",
   "metadata": {},
   "source": [
    "<span style=\"color:red;font-style:normal;font-family:Georgia\">2. IMPORTAMOS LA DATA DE NUESTRA MUESTRA.</span>"
   ]
  },
  {
   "cell_type": "code",
   "execution_count": 58,
   "metadata": {
    "scrolled": true
   },
   "outputs": [
    {
     "data": {
      "text/html": [
       "<div>\n",
       "<style scoped>\n",
       "    .dataframe tbody tr th:only-of-type {\n",
       "        vertical-align: middle;\n",
       "    }\n",
       "\n",
       "    .dataframe tbody tr th {\n",
       "        vertical-align: top;\n",
       "    }\n",
       "\n",
       "    .dataframe thead th {\n",
       "        text-align: right;\n",
       "    }\n",
       "</style>\n",
       "<table border=\"1\" class=\"dataframe\">\n",
       "  <thead>\n",
       "    <tr style=\"text-align: right;\">\n",
       "      <th></th>\n",
       "      <th>NEncuesta</th>\n",
       "      <th>Edad</th>\n",
       "      <th>Puntuacion</th>\n",
       "      <th>Duracion</th>\n",
       "      <th>Sexo</th>\n",
       "      <th>Ingreso</th>\n",
       "      <th>Puntcat</th>\n",
       "    </tr>\n",
       "  </thead>\n",
       "  <tbody>\n",
       "    <tr>\n",
       "      <th>0</th>\n",
       "      <td>1</td>\n",
       "      <td>58</td>\n",
       "      <td>5</td>\n",
       "      <td>14</td>\n",
       "      <td>Hombre</td>\n",
       "      <td>Urgencia</td>\n",
       "      <td>Satisfecho</td>\n",
       "    </tr>\n",
       "    <tr>\n",
       "      <th>1</th>\n",
       "      <td>2</td>\n",
       "      <td>10</td>\n",
       "      <td>7</td>\n",
       "      <td>4</td>\n",
       "      <td>Mujer</td>\n",
       "      <td>Programado</td>\n",
       "      <td>Satisfecho</td>\n",
       "    </tr>\n",
       "    <tr>\n",
       "      <th>2</th>\n",
       "      <td>3</td>\n",
       "      <td>11</td>\n",
       "      <td>2</td>\n",
       "      <td>15</td>\n",
       "      <td>Mujer</td>\n",
       "      <td>Programado</td>\n",
       "      <td>Insatisfecho</td>\n",
       "    </tr>\n",
       "    <tr>\n",
       "      <th>3</th>\n",
       "      <td>4</td>\n",
       "      <td>35</td>\n",
       "      <td>9</td>\n",
       "      <td>3</td>\n",
       "      <td>Hombre</td>\n",
       "      <td>Urgencia</td>\n",
       "      <td>Satisfecho</td>\n",
       "    </tr>\n",
       "    <tr>\n",
       "      <th>4</th>\n",
       "      <td>5</td>\n",
       "      <td>25</td>\n",
       "      <td>9</td>\n",
       "      <td>2</td>\n",
       "      <td>Mujer</td>\n",
       "      <td>Urgencia</td>\n",
       "      <td>Satisfecho</td>\n",
       "    </tr>\n",
       "  </tbody>\n",
       "</table>\n",
       "</div>"
      ],
      "text/plain": [
       "   NEncuesta  Edad  Puntuacion  Duracion    Sexo     Ingreso       Puntcat\n",
       "0          1    58           5        14  Hombre    Urgencia    Satisfecho\n",
       "1          2    10           7         4   Mujer  Programado    Satisfecho\n",
       "2          3    11           2        15   Mujer  Programado  Insatisfecho\n",
       "3          4    35           9         3  Hombre    Urgencia    Satisfecho\n",
       "4          5    25           9         2   Mujer    Urgencia    Satisfecho"
      ]
     },
     "execution_count": 58,
     "metadata": {},
     "output_type": "execute_result"
    }
   ],
   "source": [
    "data=pd.read_csv(\"https://raw.githubusercontent.com/VictorGuevaraP/Estadistica_con_Python/master/Ejemplo_med.csv\",sep=\";\")\n",
    "data.head()"
   ]
  },
  {
   "cell_type": "markdown",
   "metadata": {},
   "source": [
    "<span style=\"color:red;font-style:normal;font-family:Georgia\">3. REALIZAMOS UNA TABLA DE CONTINGENCIA PARA VER SI ATENDERSE POR PROGRAMADO O URGENCIA TIENE ALGUN EFECTO SOBRE LA CALIFICACION DE LA ATENCION(SATISFECHO O INSATISFECHO).</span>"
   ]
  },
  {
   "cell_type": "code",
   "execution_count": 72,
   "metadata": {
    "scrolled": true
   },
   "outputs": [
    {
     "data": {
      "text/html": [
       "<div>\n",
       "<style scoped>\n",
       "    .dataframe tbody tr th:only-of-type {\n",
       "        vertical-align: middle;\n",
       "    }\n",
       "\n",
       "    .dataframe tbody tr th {\n",
       "        vertical-align: top;\n",
       "    }\n",
       "\n",
       "    .dataframe thead th {\n",
       "        text-align: right;\n",
       "    }\n",
       "</style>\n",
       "<table border=\"1\" class=\"dataframe\">\n",
       "  <thead>\n",
       "    <tr style=\"text-align: right;\">\n",
       "      <th></th>\n",
       "      <th>Insatisfecho_obs</th>\n",
       "      <th>Satisfecho_obs</th>\n",
       "      <th>Total</th>\n",
       "    </tr>\n",
       "  </thead>\n",
       "  <tbody>\n",
       "    <tr>\n",
       "      <th>Programado</th>\n",
       "      <td>7</td>\n",
       "      <td>7</td>\n",
       "      <td>14</td>\n",
       "    </tr>\n",
       "    <tr>\n",
       "      <th>Urgencia</th>\n",
       "      <td>6</td>\n",
       "      <td>10</td>\n",
       "      <td>16</td>\n",
       "    </tr>\n",
       "    <tr>\n",
       "      <th>Total</th>\n",
       "      <td>13</td>\n",
       "      <td>17</td>\n",
       "      <td>30</td>\n",
       "    </tr>\n",
       "  </tbody>\n",
       "</table>\n",
       "</div>"
      ],
      "text/plain": [
       "            Insatisfecho_obs  Satisfecho_obs  Total\n",
       "Programado                 7               7     14\n",
       "Urgencia                   6              10     16\n",
       "Total                     13              17     30"
      ]
     },
     "execution_count": 72,
     "metadata": {},
     "output_type": "execute_result"
    }
   ],
   "source": [
    "observados=pd.crosstab(index=data[\"Ingreso\"],columns=data[\"Puntcat\"],margins=True)\n",
    "observados.columns=[\"Insatisfecho_obs\",\"Satisfecho_obs\",\"Total\"]\n",
    "observados.index=[\"Programado\",\"Urgencia\",\"Total\"]\n",
    "observados"
   ]
  },
  {
   "cell_type": "markdown",
   "metadata": {},
   "source": [
    "<span style=\"color:red;font-style:normal;font-family:Georgia\">CONCLUCIÓN :</span>\n",
    "\n",
    "- Aparentemente existe relación entre la variable Ingreso y Puntcat.\n",
    "- Las personas se encuentran mas satisfechos cuando entran por Urgencia, y Insatisfechos cuando entran por Programado."
   ]
  },
  {
   "cell_type": "markdown",
   "metadata": {},
   "source": [
    "<span style=\"color:red;font-style:normal;font-family:Georgia\">4. PARA ESTO APLICAMOS UNA PRUEBA ESTADISTICA, CHI2, CON UN NIVEL DE SIGNIFICANCIA DEL 5% ESTO PARA VER SI HAY DIFERENCIA O NO ENTRE ATENDERSE POR PROGRAMADO O URGENCIA Y QUE ESTO SE CUMPLA TAMBIÉN PARA NUESTRA POBLACIÓN.</span>"
   ]
  },
  {
   "cell_type": "markdown",
   "metadata": {},
   "source": [
    "![](https://www.medwave.cl/medios//medwave/Diciembre2011/MBE04/Formula%201.jpg)"
   ]
  },
  {
   "cell_type": "markdown",
   "metadata": {},
   "source": [
    "<span style=\"color:red;font-style:normal;font-family:Georgia\">4.1 EMPEZAMOS FORMULANDO LA HIPOTESIS.</span>"
   ]
  },
  {
   "cell_type": "markdown",
   "metadata": {},
   "source": [
    "<span style=\"color:black;font-style:normal;font-family:Georgia\">HIPOTESIS :</span>\n",
    "- H0 :  P1 = P2\n",
    "- H1 :  P1 ≠ P2"
   ]
  },
  {
   "cell_type": "markdown",
   "metadata": {},
   "source": [
    "<span style=\"color:red;font-style:normal;font-family:Georgia\">4.2. APLICAREMOS LA PRUEBA CHI2, DONDE SE DEBE CUMPLIR QUE MENOS DEL 20% DE LAS CELDAS DEBEN TENER UNA FRECUENCIA ESPERADA MENOR A 5. PARA ESTO TENEMOS QUE HALLAR LA FRECUENCIA ESPERADA DE CADA PROPORCION.</span>"
   ]
  },
  {
   "cell_type": "code",
   "execution_count": 70,
   "metadata": {},
   "outputs": [
    {
     "data": {
      "text/html": [
       "<div>\n",
       "<style scoped>\n",
       "    .dataframe tbody tr th:only-of-type {\n",
       "        vertical-align: middle;\n",
       "    }\n",
       "\n",
       "    .dataframe tbody tr th {\n",
       "        vertical-align: top;\n",
       "    }\n",
       "\n",
       "    .dataframe thead th {\n",
       "        text-align: right;\n",
       "    }\n",
       "</style>\n",
       "<table border=\"1\" class=\"dataframe\">\n",
       "  <thead>\n",
       "    <tr style=\"text-align: right;\">\n",
       "      <th></th>\n",
       "      <th>Insatisfecho_esp</th>\n",
       "      <th>Satisfecho_esp</th>\n",
       "      <th>Total</th>\n",
       "    </tr>\n",
       "  </thead>\n",
       "  <tbody>\n",
       "    <tr>\n",
       "      <th>Programado</th>\n",
       "      <td>6.066667</td>\n",
       "      <td>7.933333</td>\n",
       "      <td>14.0</td>\n",
       "    </tr>\n",
       "    <tr>\n",
       "      <th>Urgencia</th>\n",
       "      <td>6.933333</td>\n",
       "      <td>9.066667</td>\n",
       "      <td>16.0</td>\n",
       "    </tr>\n",
       "    <tr>\n",
       "      <th>Total</th>\n",
       "      <td>13.000000</td>\n",
       "      <td>17.000000</td>\n",
       "      <td>30.0</td>\n",
       "    </tr>\n",
       "  </tbody>\n",
       "</table>\n",
       "</div>"
      ],
      "text/plain": [
       "            Insatisfecho_esp  Satisfecho_esp  Total\n",
       "Programado          6.066667        7.933333   14.0\n",
       "Urgencia            6.933333        9.066667   16.0\n",
       "Total              13.000000       17.000000   30.0"
      ]
     },
     "execution_count": 70,
     "metadata": {},
     "output_type": "execute_result"
    }
   ],
   "source": [
    "esperados=pd.DataFrame(test[3])\n",
    "esperados.columns=[\"Insatisfecho_esp\",\"Satisfecho_esp\",\"Total\"]\n",
    "esperados.index=[\"Programado\",\"Urgencia\",\"Total\"]\n",
    "esperados"
   ]
  },
  {
   "cell_type": "markdown",
   "metadata": {},
   "source": [
    "<span style=\"color:red;font-style:normal;font-family:Georgia\">CONCLUCIÓN :</span>\n",
    "- Vemos que efectivamente se cumple la condición ya que ninguna proporcion tiene  valor esperado menor a 5, entonces podemos usar chi2."
   ]
  },
  {
   "cell_type": "markdown",
   "metadata": {},
   "source": [
    "<span style=\"color:red;font-style:normal;font-family:Georgia\">4.3. POR COMODIDAD PASAREMOS TODAS LAS PROPORCIONES, TANTO LAS OBSERVADAS COMO LAS ESPERADAS, EN TERMINOS RELATIVOS.</span>"
   ]
  },
  {
   "cell_type": "code",
   "execution_count": 73,
   "metadata": {},
   "outputs": [
    {
     "data": {
      "text/html": [
       "<div>\n",
       "<style scoped>\n",
       "    .dataframe tbody tr th:only-of-type {\n",
       "        vertical-align: middle;\n",
       "    }\n",
       "\n",
       "    .dataframe tbody tr th {\n",
       "        vertical-align: top;\n",
       "    }\n",
       "\n",
       "    .dataframe thead th {\n",
       "        text-align: right;\n",
       "    }\n",
       "</style>\n",
       "<table border=\"1\" class=\"dataframe\">\n",
       "  <thead>\n",
       "    <tr style=\"text-align: right;\">\n",
       "      <th></th>\n",
       "      <th>Insatisfecho_obs</th>\n",
       "      <th>Satisfecho_obs</th>\n",
       "      <th>Total</th>\n",
       "    </tr>\n",
       "  </thead>\n",
       "  <tbody>\n",
       "    <tr>\n",
       "      <th>Programado</th>\n",
       "      <td>23.33</td>\n",
       "      <td>23.33</td>\n",
       "      <td>46.67</td>\n",
       "    </tr>\n",
       "    <tr>\n",
       "      <th>Urgencia</th>\n",
       "      <td>20.00</td>\n",
       "      <td>33.33</td>\n",
       "      <td>53.33</td>\n",
       "    </tr>\n",
       "    <tr>\n",
       "      <th>Total</th>\n",
       "      <td>43.33</td>\n",
       "      <td>56.67</td>\n",
       "      <td>100.00</td>\n",
       "    </tr>\n",
       "  </tbody>\n",
       "</table>\n",
       "</div>"
      ],
      "text/plain": [
       "            Insatisfecho_obs  Satisfecho_obs   Total\n",
       "Programado             23.33           23.33   46.67\n",
       "Urgencia               20.00           33.33   53.33\n",
       "Total                  43.33           56.67  100.00"
      ]
     },
     "execution_count": 73,
     "metadata": {},
     "output_type": "execute_result"
    }
   ],
   "source": [
    "observados_rel=round(observados.apply(lambda r: r/len(data)*100,axis=1),2)\n",
    "observados_rel"
   ]
  },
  {
   "cell_type": "code",
   "execution_count": 74,
   "metadata": {},
   "outputs": [
    {
     "data": {
      "text/html": [
       "<div>\n",
       "<style scoped>\n",
       "    .dataframe tbody tr th:only-of-type {\n",
       "        vertical-align: middle;\n",
       "    }\n",
       "\n",
       "    .dataframe tbody tr th {\n",
       "        vertical-align: top;\n",
       "    }\n",
       "\n",
       "    .dataframe thead th {\n",
       "        text-align: right;\n",
       "    }\n",
       "</style>\n",
       "<table border=\"1\" class=\"dataframe\">\n",
       "  <thead>\n",
       "    <tr style=\"text-align: right;\">\n",
       "      <th></th>\n",
       "      <th>Insatisfecho_esp</th>\n",
       "      <th>Satisfecho_esp</th>\n",
       "      <th>Total</th>\n",
       "    </tr>\n",
       "  </thead>\n",
       "  <tbody>\n",
       "    <tr>\n",
       "      <th>Programado</th>\n",
       "      <td>20.22</td>\n",
       "      <td>26.44</td>\n",
       "      <td>46.67</td>\n",
       "    </tr>\n",
       "    <tr>\n",
       "      <th>Urgencia</th>\n",
       "      <td>23.11</td>\n",
       "      <td>30.22</td>\n",
       "      <td>53.33</td>\n",
       "    </tr>\n",
       "    <tr>\n",
       "      <th>Total</th>\n",
       "      <td>43.33</td>\n",
       "      <td>56.67</td>\n",
       "      <td>100.00</td>\n",
       "    </tr>\n",
       "  </tbody>\n",
       "</table>\n",
       "</div>"
      ],
      "text/plain": [
       "            Insatisfecho_esp  Satisfecho_esp   Total\n",
       "Programado             20.22           26.44   46.67\n",
       "Urgencia               23.11           30.22   53.33\n",
       "Total                  43.33           56.67  100.00"
      ]
     },
     "execution_count": 74,
     "metadata": {},
     "output_type": "execute_result"
    }
   ],
   "source": [
    "esperados_rel=round(esperados.apply(lambda r: r/len(data)*100,axis=1),2)\n",
    "esperados_rel"
   ]
  },
  {
   "cell_type": "markdown",
   "metadata": {},
   "source": [
    "<span style=\"color:red;font-style:normal;font-family:Georgia\">4.4. USANDO CHI2.</span>"
   ]
  },
  {
   "cell_type": "code",
   "execution_count": 66,
   "metadata": {},
   "outputs": [
    {
     "data": {
      "text/plain": [
       "(0.4751131221719459,\n",
       " 0.9758780582018594,\n",
       " 4,\n",
       " array([[ 6.06666667,  7.93333333, 14.        ],\n",
       "        [ 6.93333333,  9.06666667, 16.        ],\n",
       "        [13.        , 17.        , 30.        ]]))"
      ]
     },
     "execution_count": 66,
     "metadata": {},
     "output_type": "execute_result"
    }
   ],
   "source": [
    "test=chi2_contingency(observados)\n",
    "test"
   ]
  },
  {
   "cell_type": "code",
   "execution_count": 75,
   "metadata": {},
   "outputs": [
    {
     "data": {
      "text/plain": [
       "0.9758780582018594"
      ]
     },
     "execution_count": 75,
     "metadata": {},
     "output_type": "execute_result"
    }
   ],
   "source": [
    "test[1]"
   ]
  },
  {
   "cell_type": "markdown",
   "metadata": {},
   "source": [
    "<span style=\"color:red;font-style:normal;font-family:Georgia\">CONCLUCIÓN :</span>\n",
    "- Como 0.9759>0.05 quiere decir que no es significativo, no rechazamos H0.\n",
    "- Entonces a un 95% de confianza en la población todas proporciones son iguales.\n",
    "- Aunque en la muestra hayan pequeñas diferencias, en la poblacion no podemos estar seguros que haya diferencias entre las proporciones."
   ]
  }
 ],
 "metadata": {
  "kernelspec": {
   "display_name": "Python 3",
   "language": "python",
   "name": "python3"
  },
  "language_info": {
   "codemirror_mode": {
    "name": "ipython",
    "version": 3
   },
   "file_extension": ".py",
   "mimetype": "text/x-python",
   "name": "python",
   "nbconvert_exporter": "python",
   "pygments_lexer": "ipython3",
   "version": "3.8.3"
  }
 },
 "nbformat": 4,
 "nbformat_minor": 4
}
