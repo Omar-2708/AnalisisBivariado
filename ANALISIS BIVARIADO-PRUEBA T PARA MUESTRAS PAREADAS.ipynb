{
 "cells": [
  {
   "cell_type": "markdown",
   "metadata": {},
   "source": [
    "<span style=\"color:red;font-style:normal;font-family:Georgia\">1. IMPORTAMOS LAS LIBRERIAS.</span>"
   ]
  },
  {
   "cell_type": "code",
   "execution_count": 17,
   "metadata": {},
   "outputs": [],
   "source": [
    "import pandas as pd\n",
    "import numpy as np\n",
    "import matplotlib.pylab as plt\n",
    "import seaborn as sns\n",
    "from scipy.stats import shapiro\n",
    "from statsmodels.stats.diagnostic import lilliefors\n",
    "from scipy import stats"
   ]
  },
  {
   "cell_type": "markdown",
   "metadata": {},
   "source": [
    "<span style=\"color:red;font-style:normal;font-family:Georgia\">2. IMPORTAMOS LA DATA DE NUESTRA MUESTRA.</span>"
   ]
  },
  {
   "cell_type": "code",
   "execution_count": 2,
   "metadata": {},
   "outputs": [
    {
     "data": {
      "text/html": [
       "<div>\n",
       "<style scoped>\n",
       "    .dataframe tbody tr th:only-of-type {\n",
       "        vertical-align: middle;\n",
       "    }\n",
       "\n",
       "    .dataframe tbody tr th {\n",
       "        vertical-align: top;\n",
       "    }\n",
       "\n",
       "    .dataframe thead th {\n",
       "        text-align: right;\n",
       "    }\n",
       "</style>\n",
       "<table border=\"1\" class=\"dataframe\">\n",
       "  <thead>\n",
       "    <tr style=\"text-align: right;\">\n",
       "      <th></th>\n",
       "      <th>Nombre</th>\n",
       "      <th>Antes</th>\n",
       "      <th>Después</th>\n",
       "    </tr>\n",
       "  </thead>\n",
       "  <tbody>\n",
       "    <tr>\n",
       "      <th>0</th>\n",
       "      <td>Estudiante 1</td>\n",
       "      <td>18</td>\n",
       "      <td>22</td>\n",
       "    </tr>\n",
       "    <tr>\n",
       "      <th>1</th>\n",
       "      <td>Estudiante 2</td>\n",
       "      <td>21</td>\n",
       "      <td>25</td>\n",
       "    </tr>\n",
       "    <tr>\n",
       "      <th>2</th>\n",
       "      <td>Estudiante 3</td>\n",
       "      <td>16</td>\n",
       "      <td>17</td>\n",
       "    </tr>\n",
       "    <tr>\n",
       "      <th>3</th>\n",
       "      <td>Estudiante 4</td>\n",
       "      <td>22</td>\n",
       "      <td>24</td>\n",
       "    </tr>\n",
       "    <tr>\n",
       "      <th>4</th>\n",
       "      <td>Estudiante 5</td>\n",
       "      <td>19</td>\n",
       "      <td>16</td>\n",
       "    </tr>\n",
       "  </tbody>\n",
       "</table>\n",
       "</div>"
      ],
      "text/plain": [
       "         Nombre  Antes  Después\n",
       "0  Estudiante 1     18       22\n",
       "1  Estudiante 2     21       25\n",
       "2  Estudiante 3     16       17\n",
       "3  Estudiante 4     22       24\n",
       "4  Estudiante 5     19       16"
      ]
     },
     "execution_count": 2,
     "metadata": {},
     "output_type": "execute_result"
    }
   ],
   "source": [
    "data=pd.read_excel(\"caso1.xlsx\")\n",
    "data.head()"
   ]
  },
  {
   "cell_type": "markdown",
   "metadata": {},
   "source": [
    "<span style=\"color:red;font-style:normal;font-family:Georgia\">3. PARA UTILIZAR LA PRUEBA T PARA MUESTRAS PAREADAS PRIMERO DEBEN CUMPLIRSE CIERTOS REQUISITOS.</span>"
   ]
  },
  {
   "cell_type": "markdown",
   "metadata": {},
   "source": [
    "![](https://lh3.googleusercontent.com/proxy/3Bpbm0AFxwo9I7mlg2NAc13m8896EJCXGxv-xL_YV0PJ8SGSPWkDMjF8QktAlr6rY_tGjIvrQtMiQuUcyssy4g4R3M3nhqlTA4Lf66radzMU9jYsxFW1_YBjN_8aflDYF7f0svAZoAfOvpeG5MEZChGO-VV4hEyFQA)"
   ]
  },
  {
   "cell_type": "markdown",
   "metadata": {},
   "source": [
    "<span style=\"color:red;font-style:normal;font-family:Georgia\">3.1 LAS VARIABLES DEBEN SER CUANTITATIVAS(DISCRETAS O CONTINUAS).</span>"
   ]
  },
  {
   "cell_type": "code",
   "execution_count": 22,
   "metadata": {},
   "outputs": [
    {
     "name": "stdout",
     "output_type": "stream",
     "text": [
      "<class 'pandas.core.frame.DataFrame'>\n",
      "RangeIndex: 20 entries, 0 to 19\n",
      "Data columns (total 3 columns):\n",
      " #   Column   Non-Null Count  Dtype \n",
      "---  ------   --------------  ----- \n",
      " 0   Nombre   20 non-null     object\n",
      " 1   Antes    20 non-null     int64 \n",
      " 2   Después  20 non-null     int64 \n",
      "dtypes: int64(2), object(1)\n",
      "memory usage: 608.0+ bytes\n"
     ]
    }
   ],
   "source": [
    "data.info()"
   ]
  },
  {
   "cell_type": "markdown",
   "metadata": {},
   "source": [
    "<span style=\"color:red;font-style:normal;font-family:Georgia\">CONCLUCIÓN :</span>\n",
    "\n",
    "- Vemos que ambas variables son cuantitativas discretas, de este modo se cumpliría la condición."
   ]
  },
  {
   "cell_type": "markdown",
   "metadata": {},
   "source": [
    "<span style=\"color:red;font-style:normal;font-family:Georgia\">3.2 LAS VARIABLES EN ESTUDIO DEBEN SEGUIR UN COMPORTAMIENTO NORMAL. PARA COMPROBAR ESTA CONDICION FORMULAREMOS UNA HIPOTESIS CON SUS RESPECTIVAS PRUEBAS Y UN NIVEL DE SIGNIFICANCIA DEL 5%.</span>"
   ]
  },
  {
   "cell_type": "markdown",
   "metadata": {},
   "source": [
    "<span style=\"color:black;font-style:normal;font-family:Georgia\">HIPOTESIS :</span>\n",
    "\n",
    "- <span style=\"color:black;font-style:normal;font-family:Georgia\">Ho : La variable en estudio tiene una Distribución Normal.</span>\n",
    "- <span style=\"color:black;font-style:normal;font-family:Georgia\">H1 : La variable en estudio no tienen una Distribución Normal.</span>"
   ]
  },
  {
   "cell_type": "markdown",
   "metadata": {},
   "source": [
    "## **Prueba de Shapiro-Wilk**"
   ]
  },
  {
   "cell_type": "code",
   "execution_count": 5,
   "metadata": {},
   "outputs": [
    {
     "data": {
      "text/plain": [
       "ShapiroResult(statistic=0.9819655418395996, pvalue=0.9568763375282288)"
      ]
     },
     "execution_count": 5,
     "metadata": {},
     "output_type": "execute_result"
    }
   ],
   "source": [
    "prueba_nor_antes=shapiro(data[\"Antes\"])\n",
    "prueba_nor_antes"
   ]
  },
  {
   "cell_type": "markdown",
   "metadata": {},
   "source": [
    "- <span style=\"color:black;font-style:normal;font-family:Georgia\">Como 0.9569 > 0.05 la variable Antes seguiría un comportamiento normal.</span>"
   ]
  },
  {
   "cell_type": "code",
   "execution_count": 6,
   "metadata": {},
   "outputs": [
    {
     "data": {
      "text/plain": [
       "ShapiroResult(statistic=0.9423450231552124, pvalue=0.2654399871826172)"
      ]
     },
     "execution_count": 6,
     "metadata": {},
     "output_type": "execute_result"
    }
   ],
   "source": [
    "prueba_nor_despues=shapiro(data[\"Después\"])\n",
    "prueba_nor_despues"
   ]
  },
  {
   "cell_type": "markdown",
   "metadata": {},
   "source": [
    "- <span style=\"color:black;font-style:normal;font-family:Georgia\">Como 0.2654 > 0.05 la variable Después seguiría un comportamiento normal.</span>"
   ]
  },
  {
   "cell_type": "markdown",
   "metadata": {},
   "source": [
    "## **Prueba de lilliefors**"
   ]
  },
  {
   "cell_type": "code",
   "execution_count": 8,
   "metadata": {},
   "outputs": [
    {
     "name": "stderr",
     "output_type": "stream",
     "text": [
      "C:\\Users\\pc\\anaconda3\\lib\\site-packages\\statsmodels\\stats\\_lilliefors.py:272: FutureWarning: The default pvalmethod will change from \"approx\" to \"table\" after 0.11. The \"table\" method uses values from a very large simulation and is more accurate.  Explicitly set this parameter to \"approx\" or \"table\" to silence this warning\n",
      "  warnings.warn(msg, FutureWarning)\n"
     ]
    },
    {
     "data": {
      "text/plain": [
       "(0.10048724045280688, 0.8509813199711381)"
      ]
     },
     "execution_count": 8,
     "metadata": {},
     "output_type": "execute_result"
    }
   ],
   "source": [
    "prueba_lilliefors_antes=lilliefors(data[\"Antes\"])\n",
    "prueba_lilliefors_antes"
   ]
  },
  {
   "cell_type": "markdown",
   "metadata": {},
   "source": [
    "- <span style=\"color:black;font-style:normal;font-family:Georgia\">Como 0.85098 > 0.05 la variable Antes seguiría un comportamiento normal.</span>"
   ]
  },
  {
   "cell_type": "code",
   "execution_count": 9,
   "metadata": {},
   "outputs": [
    {
     "data": {
      "text/plain": [
       "(0.14414410746424744, 0.3391498239042544)"
      ]
     },
     "execution_count": 9,
     "metadata": {},
     "output_type": "execute_result"
    }
   ],
   "source": [
    "prueba_lilliefors_despues=lilliefors(data[\"Después\"])\n",
    "prueba_lilliefors_despues"
   ]
  },
  {
   "cell_type": "markdown",
   "metadata": {},
   "source": [
    "- <span style=\"color:black;font-style:normal;font-family:Georgia\">Como 0.3391 > 0.05 la variable Después seguiría un comportamiento normal.</span>"
   ]
  },
  {
   "cell_type": "markdown",
   "metadata": {},
   "source": [
    "<span style=\"color:black;font-style:normal;font-family:Georgia\">CONCLUCIÓN :</span>\n",
    "\n",
    "- <span style=\"color:black;font-style:normal;font-family:Georgia\">Hay evidencia estadística suficiente para decir que la variable en estudio proviene de una distribución normal.</span>"
   ]
  },
  {
   "cell_type": "markdown",
   "metadata": {},
   "source": [
    "<span style=\"color:red;font-style:normal;font-family:Georgia\">4. COMO SE CUMPLEN LAS CONDICIONES PODEMOS APLICAR LA PRUEBA T PARA MUESTRAS PAREADAS. PARA ESTO FORMULAMOS LA HIPOTESIS CON UN NIVEL DE SIGNIFICANCIA DEL 5%.</span>"
   ]
  },
  {
   "cell_type": "markdown",
   "metadata": {},
   "source": [
    "<span style=\"color:black;font-style:normal;font-family:Georgia\">HIPOTESIS :</span>\n",
    "\n",
    "- <span style=\"color:black;font-style:normal;font-family:Georgia\">H0 : Los puntajes son iguales.</span>\n",
    "- <span style=\"color:black;font-style:normal;font-family:Georgia\">H1 : El puntaje antes es menor al puntaje después.</span>"
   ]
  },
  {
   "cell_type": "code",
   "execution_count": 18,
   "metadata": {},
   "outputs": [
    {
     "data": {
      "text/plain": [
       "Ttest_relResult(statistic=-3.231252665580312, pvalue=0.004394965993185664)"
      ]
     },
     "execution_count": 18,
     "metadata": {},
     "output_type": "execute_result"
    }
   ],
   "source": [
    "stats.ttest_rel(data[\"Antes\"],data[\"Después\"])"
   ]
  },
  {
   "cell_type": "markdown",
   "metadata": {},
   "source": [
    "<span style=\"color:black;font-style:normal;font-family:Georgia\">CONCLUCIÓN :</span>\n",
    "\n",
    "- <span style=\"color:black;font-style:normal;font-family:Georgia\">Como es una prueba bilateral primero debemos dividir el pvalue/2 entonces 0.0022 < 0.05 rechazamos H0.</span>\n",
    "- <span style=\"color:black;font-style:normal;font-family:Georgia\">Hay evidencia estadística para afirmar que el puntaje antes es menor al puntaje después.</span>"
   ]
  }
 ],
 "metadata": {
  "kernelspec": {
   "display_name": "Python 3",
   "language": "python",
   "name": "python3"
  },
  "language_info": {
   "codemirror_mode": {
    "name": "ipython",
    "version": 3
   },
   "file_extension": ".py",
   "mimetype": "text/x-python",
   "name": "python",
   "nbconvert_exporter": "python",
   "pygments_lexer": "ipython3",
   "version": "3.8.3"
  }
 },
 "nbformat": 4,
 "nbformat_minor": 4
}
